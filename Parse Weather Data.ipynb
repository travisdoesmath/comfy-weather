{
 "cells": [
  {
   "cell_type": "code",
   "execution_count": null,
   "metadata": {
    "collapsed": true
   },
   "outputs": [],
   "source": [
    "import pandas as pd"
   ]
  },
  {
   "cell_type": "code",
   "execution_count": null,
   "metadata": {
    "collapsed": true
   },
   "outputs": [],
   "source": [
    "weather_dir = 'I:/Weather Data/'"
   ]
  },
  {
   "cell_type": "code",
   "execution_count": null,
   "metadata": {},
   "outputs": [],
   "source": [
    "daily_tmin_df = pd.read_fwf(f'{weather_dir}/dly-tmin-normal.txt', header=None)\n",
    "daily_tmin_df.columns = ['STNID','MONTH'] + [i for i in range(1,32)]\n",
    "daily_tmin_df = pd.melt(daily_tmin_df, id_vars = ['STNID','MONTH'], value_vars = [i for i in range(1,32)])\n",
    "daily_tmin_df.columns = ['STNID','MONTH','DAY','VALUE']\n",
    "daily_tmin_df.head()"
   ]
  },
  {
   "cell_type": "code",
   "execution_count": null,
   "metadata": {},
   "outputs": [],
   "source": [
    "daily_tmin_df = daily_tmin_df[daily_tmin_df['VALUE'] != '-8888']\n",
    "daily_tmin_df['FLAG'] = daily_tmin_df['VALUE'].map(lambda x: x[-1])\n",
    "daily_tmin_df['VALUE'] = daily_tmin_df['VALUE'].map(lambda x: int(x[0:-1])/10)\n",
    "daily_tmin_df"
   ]
  },
  {
   "cell_type": "code",
   "execution_count": null,
   "metadata": {},
   "outputs": [],
   "source": [
    "daily_tmax_df = pd.read_fwf(f'{weather_dir}/dly-tmax-normal.txt', header=None)\n",
    "daily_tmax_df.columns = ['STNID','MONTH'] + [i for i in range(1,32)]\n",
    "daily_tmax_df = pd.melt(daily_tmax_df, id_vars = ['STNID','MONTH'], value_vars = [i for i in range(1,32)])\n",
    "daily_tmax_df.columns = ['STNID','MONTH','DAY','VALUE']\n",
    "\n",
    "daily_tmax_df = daily_tmax_df[daily_tmax_df['VALUE'] != '-8888']\n",
    "daily_tmax_df['FLAG'] = daily_tmax_df['VALUE'].map(lambda x: x[-1])\n",
    "daily_tmax_df['VALUE'] = daily_tmax_df['VALUE'].map(lambda x: int(x[0:-1])/10)\n",
    "daily_tmax_df"
   ]
  },
  {
   "cell_type": "code",
   "execution_count": null,
   "metadata": {
    "collapsed": true
   },
   "outputs": [],
   "source": [
    "daily_temp_df = pd.merge(daily_tmin_df, daily_tmax_df, on=['STNID','MONTH','DAY'], suffixes=['_MIN','_MAX'])"
   ]
  },
  {
   "cell_type": "code",
   "execution_count": null,
   "metadata": {},
   "outputs": [],
   "source": [
    "daily_temp_df.groupby('STNID')['VALUE_MIN'].quantile(.05)"
   ]
  },
  {
   "cell_type": "code",
   "execution_count": null,
   "metadata": {},
   "outputs": [],
   "source": [
    "daily_temp_df.groupby('STNID')['VALUE_MAX'].quantile(.95)"
   ]
  },
  {
   "cell_type": "code",
   "execution_count": null,
   "metadata": {
    "collapsed": true
   },
   "outputs": [],
   "source": [
    "df = pd.DataFrame({'min_05': daily_temp_df.groupby('STNID')['VALUE_MIN'].quantile(.1), 'max_95':daily_temp_df.groupby('STNID')['VALUE_MAX'].quantile(.9)}).reset_index()"
   ]
  },
  {
   "cell_type": "code",
   "execution_count": null,
   "metadata": {},
   "outputs": [],
   "source": [
    "df[(df['min_05'] > 20) & (df['max_95'] < 80)]"
   ]
  },
  {
   "cell_type": "code",
   "execution_count": null,
   "metadata": {},
   "outputs": [],
   "source": [
    "all_stations_df = pd.read_fwf(f'{weather_dir}/allstations.txt', header=None)\n",
    "all_stations_df.columns = ['ID', 'Latitude','Longitude','Elevation','State','Name','GSNFLAG','HCNFLAG','WMOID']\n",
    "all_stations_df.head()"
   ]
  },
  {
   "cell_type": "code",
   "execution_count": null,
   "metadata": {},
   "outputs": [],
   "source": [
    "stations = pd.merge(df[(df['min_05'] > 25) & (df['max_95'] < 85)],all_stations_df,left_on='STNID',right_on='ID')\n",
    "stations"
   ]
  },
  {
   "cell_type": "code",
   "execution_count": null,
   "metadata": {},
   "outputs": [],
   "source": [
    "stations['State'].value_counts()"
   ]
  },
  {
   "cell_type": "code",
   "execution_count": null,
   "metadata": {},
   "outputs": [],
   "source": [
    "df['Date'] = pd.to_datetime(df[['Year','Month','Day','Hour']])\n",
    "df.head()"
   ]
  },
  {
   "cell_type": "code",
   "execution_count": null,
   "metadata": {},
   "outputs": [],
   "source": [
    "import plotly\n",
    "import plotly.graph_objs as go\n",
    "plotly.offline.init_notebook_mode()\n",
    "\n",
    "fig = go.Figure()\n",
    "\n",
    "fig.add_trace(go.Scattergeo(\n",
    "    locationmode = 'USA-states',\n",
    "    lon = stations['Longitude'],\n",
    "    lat = stations['Latitude'],\n",
    "    hoverinfo = 'text',\n",
    "    text = f\"{stations['min_05']} to {stations['max_95']}\",\n",
    "    mode = 'markers',\n",
    "    marker = dict(\n",
    "        size = 2,\n",
    "        color = 'rgb(255, 0, 0)',\n",
    "        line = dict(\n",
    "            width = 3,\n",
    "            color = 'rgba(68, 68, 68, 0)'\n",
    "        )\n",
    "    )))\n",
    "\n",
    "fig.show()"
   ]
  },
  {
   "cell_type": "code",
   "execution_count": null,
   "metadata": {
    "collapsed": true
   },
   "outputs": [],
   "source": []
  }
 ],
 "metadata": {
  "kernelspec": {
   "display_name": "Python 3",
   "language": "python",
   "name": "python3"
  }
 },
 "nbformat": 4,
 "nbformat_minor": 2
}
